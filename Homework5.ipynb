{
 "cells": [
  {
   "cell_type": "code",
   "execution_count": 11,
   "id": "f7edcba2-9a36-45d3-8bc1-07ecbd89035f",
   "metadata": {},
   "outputs": [],
   "source": [
    "class Human:\n",
    "    species = 'Homo sapiens'\n",
    "    legs = 2\n",
    "    arms = 2\n",
    "    can_speak = True\n",
    "    average_lifespan = 79\n",
    "def __init__ (self, name, age, gender, occupation ):\n",
    "    self.name = name\n",
    "    self.age = age\n",
    "    self.gender = gender\n",
    "    self.occupation = occupation "
   ]
  },
  {
   "cell_type": "code",
   "execution_count": null,
   "id": "2607d51e-34eb-4160-9939-18e2ce475aa8",
   "metadata": {},
   "outputs": [],
   "source": [
    "A = Human('Kate', 19, 'female','artist')\n",
    "B = Human('Rico', 20, 'male', 'realtor')"
   ]
  },
  {
   "cell_type": "code",
   "execution_count": 1,
   "id": "007e4017-c0f5-43f1-bf8a-034101b8c596",
   "metadata": {},
   "outputs": [],
   "source": [
    "class Point:\n",
    "    def __init__(self, x=0, y=0):\n",
    "        self.x=x\n",
    "        self.y=y\n",
    "    def distance(self):\n",
    "        return((self.x)**2+(self.y)**2)**.5"
   ]
  },
  {
   "cell_type": "code",
   "execution_count": 2,
   "id": "f2c755f2-9cf0-41bc-921d-ab1daee9e6ea",
   "metadata": {},
   "outputs": [
    {
     "name": "stdout",
     "output_type": "stream",
     "text": [
      "5.0\n"
     ]
    }
   ],
   "source": [
    "p=Point(3,4)\n",
    "print(p.distance())"
   ]
  },
  {
   "cell_type": "code",
   "execution_count": null,
   "id": "1e672eeb-efce-47ba-b387-fa380974b0e1",
   "metadata": {},
   "outputs": [],
   "source": [
    "Question 3: A"
   ]
  },
  {
   "cell_type": "code",
   "execution_count": null,
   "id": "ad7b5672-0354-44fa-96ae-6346a020547f",
   "metadata": {},
   "outputs": [],
   "source": [
    "Question 4: helloworld"
   ]
  },
  {
   "cell_type": "code",
   "execution_count": null,
   "id": "73f8871b-cc62-4f3d-b4f1-85f59e54bb20",
   "metadata": {},
   "outputs": [],
   "source": [
    "Question 5: C"
   ]
  },
  {
   "cell_type": "code",
   "execution_count": null,
   "id": "a83ab3d7-02be-46b8-bcaf-395d84bfe224",
   "metadata": {},
   "outputs": [],
   "source": [
    "Question 6: TypeError: Only integers are allowed"
   ]
  }
 ],
 "metadata": {
  "kernelspec": {
   "display_name": "Python 3 (ipykernel)",
   "language": "python",
   "name": "python3"
  },
  "language_info": {
   "codemirror_mode": {
    "name": "ipython",
    "version": 3
   },
   "file_extension": ".py",
   "mimetype": "text/x-python",
   "name": "python",
   "nbconvert_exporter": "python",
   "pygments_lexer": "ipython3",
   "version": "3.9.13"
  }
 },
 "nbformat": 4,
 "nbformat_minor": 5
}
