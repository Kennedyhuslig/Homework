{
 "cells": [
  {
   "cell_type": "code",
   "execution_count": 2,
   "id": "02050807",
   "metadata": {},
   "outputs": [
    {
     "name": "stdout",
     "output_type": "stream",
     "text": [
      "0\n",
      "1\n",
      "2\n",
      "3\n",
      "4\n"
     ]
    }
   ],
   "source": [
    "def les_than(num):\n",
    "    for n in range(num):\n",
    "        print(n)\n",
    "les_than(5)"
   ]
  },
  {
   "cell_type": "code",
   "execution_count": 3,
   "id": "6cae9b57",
   "metadata": {},
   "outputs": [
    {
     "name": "stdout",
     "output_type": "stream",
     "text": [
      "88\n"
     ]
    }
   ],
   "source": [
    "def print_student(student_name):\n",
    "    marks = {'Andy':88, 'Amy':66,'James':90,'Jules':55,'Arthur':77}\n",
    "    for student in marks:\n",
    "        if student == student_name:\n",
    "            print(marks[student])\n",
    "            break\n",
    "    else:\n",
    "        print ('No entry with that name found.')\n",
    "\n",
    "print_student(\"Andy\")"
   ]
  },
  {
   "cell_type": "code",
   "execution_count": 15,
   "id": "c7161129",
   "metadata": {},
   "outputs": [
    {
     "data": {
      "text/plain": [
       "75.2"
      ]
     },
     "execution_count": 15,
     "metadata": {},
     "output_type": "execute_result"
    }
   ],
   "source": [
    "sum(marks.values())/len(marks)"
   ]
  },
  {
   "cell_type": "code",
   "execution_count": 6,
   "id": "60a4a249",
   "metadata": {},
   "outputs": [
    {
     "name": "stdout",
     "output_type": "stream",
     "text": [
      "0 0\n",
      "1 1\n",
      "2 4\n",
      "3 9\n",
      "4 16\n",
      "5 25\n",
      "6 36\n",
      "7 49\n",
      "greater than 8\n"
     ]
    }
   ],
   "source": [
    "def printout(num):\n",
    "    n=0\n",
    "    while n<num:\n",
    "        print(n, n**2)\n",
    "        n+=1\n",
    "    else:\n",
    "        print(\"greater than\", num)\n",
    "\n",
    "printout(8)"
   ]
  },
  {
   "cell_type": "code",
   "execution_count": 11,
   "id": "628b9878",
   "metadata": {},
   "outputs": [
    {
     "name": "stdout",
     "output_type": "stream",
     "text": [
      "3\n"
     ]
    }
   ],
   "source": [
    "def sumfunction(num):\n",
    "    n=1\n",
    "    sum=0\n",
    "    while n<=num:\n",
    "        sum=sum+n\n",
    "        n=n+1\n",
    "    print(sum)\n",
    "sumfunction(2)"
   ]
  },
  {
   "cell_type": "code",
   "execution_count": 9,
   "id": "aa63368b",
   "metadata": {},
   "outputs": [
    {
     "name": "stdout",
     "output_type": "stream",
     "text": [
      "46\n"
     ]
    }
   ],
   "source": [
    "def range_sum(num):\n",
    "    sum=1\n",
    "    for n in range(num):\n",
    "        sum=sum+n\n",
    "    print (sum)\n",
    "range_sum(10)"
   ]
  },
  {
   "cell_type": "code",
   "execution_count": 35,
   "id": "245318a9",
   "metadata": {},
   "outputs": [],
   "source": [
    "a_list=[]\n",
    "for number in range (1,100):\n",
    "    a_list += [number]"
   ]
  },
  {
   "cell_type": "code",
   "execution_count": 37,
   "id": "c0ac79a7",
   "metadata": {},
   "outputs": [
    {
     "data": {
      "text/plain": [
       "50.0"
      ]
     },
     "execution_count": 37,
     "metadata": {},
     "output_type": "execute_result"
    }
   ],
   "source": [
    "sum(a_list)/len(a_list)"
   ]
  },
  {
   "cell_type": "code",
   "execution_count": 36,
   "id": "08506468",
   "metadata": {},
   "outputs": [
    {
     "data": {
      "text/plain": [
       "4950"
      ]
     },
     "execution_count": 36,
     "metadata": {},
     "output_type": "execute_result"
    }
   ],
   "source": [
    "sum(a_list)"
   ]
  },
  {
   "cell_type": "code",
   "execution_count": 38,
   "id": "34bb3222",
   "metadata": {},
   "outputs": [
    {
     "name": "stdout",
     "output_type": "stream",
     "text": [
      "28.577380332470412\n"
     ]
    }
   ],
   "source": [
    "import numpy as np\n",
    "std=np.std(a_list)\n",
    "print(std)"
   ]
  },
  {
   "cell_type": "code",
   "execution_count": 18,
   "id": "88af8043",
   "metadata": {},
   "outputs": [],
   "source": [
    "def minimal(v1,v2,v3,v4):\n",
    "    min_value=v1\n",
    "    if v2< min_value:\n",
    "        min_value=v2\n",
    "    if v3<min_value:\n",
    "        min_value=v3\n",
    "    if v4<min_value:\n",
    "        min_value=v4\n",
    "    return min_value\n"
   ]
  },
  {
   "cell_type": "code",
   "execution_count": 19,
   "id": "4b60dee3",
   "metadata": {},
   "outputs": [
    {
     "data": {
      "text/plain": [
       "4"
      ]
     },
     "execution_count": 19,
     "metadata": {},
     "output_type": "execute_result"
    }
   ],
   "source": [
    "minimal(12,4,7,20)"
   ]
  },
  {
   "cell_type": "code",
   "execution_count": 40,
   "id": "d1aab7b8",
   "metadata": {},
   "outputs": [
    {
     "name": "stdout",
     "output_type": "stream",
     "text": [
      "Hello Im Kennedy\n"
     ]
    }
   ],
   "source": [
    "hello=\"Hello \"\n",
    "Im=\"Im \"\n",
    "Kennedy=\"Kennedy\"\n",
    "main_str= \"Hello Im kennedy\"\n",
    "print(hello+Im+Kennedy)"
   ]
  },
  {
   "cell_type": "code",
   "execution_count": null,
   "id": "9020bac8",
   "metadata": {},
   "outputs": [],
   "source": []
  }
 ],
 "metadata": {
  "kernelspec": {
   "display_name": "Python 3 (ipykernel)",
   "language": "python",
   "name": "python3"
  },
  "language_info": {
   "codemirror_mode": {
    "name": "ipython",
    "version": 3
   },
   "file_extension": ".py",
   "mimetype": "text/x-python",
   "name": "python",
   "nbconvert_exporter": "python",
   "pygments_lexer": "ipython3",
   "version": "3.9.13"
  }
 },
 "nbformat": 4,
 "nbformat_minor": 5
}
