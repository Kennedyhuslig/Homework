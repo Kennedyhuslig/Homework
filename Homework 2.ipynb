{
 "cells": [
  {
   "cell_type": "code",
   "execution_count": 10,
   "id": "6f26111c",
   "metadata": {},
   "outputs": [
    {
     "name": "stdout",
     "output_type": "stream",
     "text": [
      "0\n",
      "1\n",
      "2\n",
      "3\n",
      "4\n"
     ]
    }
   ],
   "source": [
    "n=0\n",
    "while n<10:\n",
    "    print(n)\n",
    "    if n==4:\n",
    "        break\n",
    "    n+=1"
   ]
  },
  {
   "cell_type": "code",
   "execution_count": 1,
   "id": "539f313b",
   "metadata": {},
   "outputs": [
    {
     "name": "stdout",
     "output_type": "stream",
     "text": [
      "0\n",
      "1\n",
      "2\n",
      "3\n",
      "4\n",
      "5 is not less than 5\n"
     ]
    }
   ],
   "source": [
    "n=0\n",
    "while n<5:\n",
    "    print(n)\n",
    "    n+=1\n",
    "else: \n",
    "    print (n,\"is not less than 5\")\n"
   ]
  },
  {
   "cell_type": "code",
   "execution_count": 7,
   "id": "e6c6172a",
   "metadata": {},
   "outputs": [
    {
     "name": "stdout",
     "output_type": "stream",
     "text": [
      "I like watermelon\n",
      "I like Strawberries\n",
      "I dont like apples\n"
     ]
    }
   ],
   "source": [
    "fruitlist = [\"watermelon\",\"Strawberries\",\"apple\"]\n",
    "for fruit in fruitlist:\n",
    "    print(\"I like\", fruit)\n",
    "    if fruit==\"Strawberries\":\n",
    "        break\n",
    "print(\"I dont like apples\")\n"
   ]
  },
  {
   "cell_type": "code",
   "execution_count": 9,
   "id": "b7ca6629",
   "metadata": {},
   "outputs": [
    {
     "name": "stdout",
     "output_type": "stream",
     "text": [
      "Sum of integers 1 through 30 is: 465\n"
     ]
    }
   ],
   "source": [
    "i=1\n",
    "sum=0\n",
    "while i<=30:\n",
    "    sum=sum+i\n",
    "    i=i+1\n",
    "print(\"The sum of the integers 1 through 30 is:\",sum)"
   ]
  },
  {
   "cell_type": "code",
   "execution_count": 30,
   "id": "15f70bd5",
   "metadata": {},
   "outputs": [
    {
     "name": "stdout",
     "output_type": "stream",
     "text": [
      "Grade:55\n",
      "F\n"
     ]
    }
   ],
   "source": [
    "grade = int(input(\"Grade:\"))\n",
    "if (grade >= 90):\n",
    "    print (\"A\")\n",
    "elif (grade>=80)and (90>=grade):\n",
    "    print(\"B\")\n",
    "elif (grade>=70)and(grade<=80):\n",
    "    print(\"C\")\n",
    "elif (grade>=60)and(grade<=70):\n",
    "    print(\"D\")\n",
    "elif (grade<60):\n",
    "    print (\"F\")\n",
    "    "
   ]
  },
  {
   "cell_type": "code",
   "execution_count": 55,
   "id": "e4f0cc6b",
   "metadata": {},
   "outputs": [
    {
     "name": "stdout",
     "output_type": "stream",
     "text": [
      "Andy 88\n",
      "Amy 66\n",
      "James 90\n",
      "Jules 55\n",
      "Arthur 77\n"
     ]
    }
   ],
   "source": [
    "marks={'Andy': 88, 'Amy': 66, 'James': 90, 'Jules': 55, 'Arthur': 77}\n",
    "for m in marks:\n",
    "    print(m, marks.get(m))"
   ]
  },
  {
   "cell_type": "code",
   "execution_count": 56,
   "id": "241ff3e5",
   "metadata": {},
   "outputs": [
    {
     "name": "stdout",
     "output_type": "stream",
     "text": [
      "Andy\n",
      "Amy\n",
      "James\n"
     ]
    }
   ],
   "source": [
    "for m in marks:\n",
    "    print(m)\n",
    "    if m ==\"James\":\n",
    "        break"
   ]
  },
  {
   "cell_type": "code",
   "execution_count": 88,
   "id": "8756e493",
   "metadata": {},
   "outputs": [
    {
     "name": "stdout",
     "output_type": "stream",
     "text": [
      "Andy\n",
      "Amy\n",
      "Jules\n",
      "Arthur\n"
     ]
    }
   ],
   "source": [
    "for m in marks:\n",
    "    if m =='James':\n",
    "        continue\n",
    "    else:\n",
    "        print(m)"
   ]
  }
 ],
 "metadata": {
  "kernelspec": {
   "display_name": "Python 3 (ipykernel)",
   "language": "python",
   "name": "python3"
  },
  "language_info": {
   "codemirror_mode": {
    "name": "ipython",
    "version": 3
   },
   "file_extension": ".py",
   "mimetype": "text/x-python",
   "name": "python",
   "nbconvert_exporter": "python",
   "pygments_lexer": "ipython3",
   "version": "3.9.13"
  }
 },
 "nbformat": 4,
 "nbformat_minor": 5
}
