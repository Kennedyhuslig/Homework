{
 "cells": [
  {
   "cell_type": "code",
   "execution_count": 3,
   "id": "a32bfcd6",
   "metadata": {},
   "outputs": [],
   "source": [
    "nums = list(range(30,65,5))"
   ]
  },
  {
   "cell_type": "code",
   "execution_count": 4,
   "id": "ab139c5f",
   "metadata": {},
   "outputs": [
    {
     "data": {
      "text/plain": [
       "[30, 35, 40, 45, 50, 55, 60]"
      ]
     },
     "execution_count": 4,
     "metadata": {},
     "output_type": "execute_result"
    }
   ],
   "source": [
    "nums"
   ]
  },
  {
   "cell_type": "code",
   "execution_count": 5,
   "id": "a2a6a040",
   "metadata": {},
   "outputs": [
    {
     "name": "stdout",
     "output_type": "stream",
     "text": [
      "[60, 55, 50, 45, 40, 35, 30]\n"
     ]
    }
   ],
   "source": [
    "print(nums[::-1])"
   ]
  },
  {
   "cell_type": "code",
   "execution_count": 6,
   "id": "408ea02a",
   "metadata": {},
   "outputs": [],
   "source": [
    "nums.append (65)"
   ]
  },
  {
   "cell_type": "code",
   "execution_count": 7,
   "id": "0377fc93",
   "metadata": {},
   "outputs": [
    {
     "name": "stdout",
     "output_type": "stream",
     "text": [
      "[30, 35, 40, 45, 50, 55, 60, 65]\n"
     ]
    }
   ],
   "source": [
    "print(nums)"
   ]
  },
  {
   "cell_type": "code",
   "execution_count": 9,
   "id": "e7c638ed",
   "metadata": {},
   "outputs": [
    {
     "name": "stdout",
     "output_type": "stream",
     "text": [
      "[65, 60, 55, 50, 45, 40, 35, 30]\n"
     ]
    }
   ],
   "source": [
    "print(nums[::-1])"
   ]
  },
  {
   "cell_type": "code",
   "execution_count": 28,
   "id": "8ed1a5b2",
   "metadata": {},
   "outputs": [],
   "source": [
    "alist = []"
   ]
  },
  {
   "cell_type": "code",
   "execution_count": 29,
   "id": "32aeb244",
   "metadata": {},
   "outputs": [],
   "source": [
    "for number in range (0,21):\n",
    "    alist += [number]"
   ]
  },
  {
   "cell_type": "code",
   "execution_count": 30,
   "id": "db5c5d71",
   "metadata": {
    "scrolled": false
   },
   "outputs": [
    {
     "data": {
      "text/plain": [
       "[0, 1, 2, 3, 4, 5, 6, 7, 8, 9, 10, 11, 12, 13, 14, 15, 16, 17, 18, 19, 20]"
      ]
     },
     "execution_count": 30,
     "metadata": {},
     "output_type": "execute_result"
    }
   ],
   "source": [
    "alist"
   ]
  },
  {
   "cell_type": "code",
   "execution_count": 49,
   "id": "e0f04912",
   "metadata": {},
   "outputs": [
    {
     "data": {
      "text/plain": [
       "[1, 2, 3, 4, 5, 6, 7, 8, 9, 10, 11, 12, 13, 14, 15, 16, 17, 18, 19, 20]"
      ]
     },
     "execution_count": 49,
     "metadata": {},
     "output_type": "execute_result"
    }
   ],
   "source": [
    "alist [1:21]"
   ]
  },
  {
   "cell_type": "code",
   "execution_count": 51,
   "id": "fb663909",
   "metadata": {},
   "outputs": [
    {
     "name": "stdout",
     "output_type": "stream",
     "text": [
      "20\n"
     ]
    }
   ],
   "source": [
    "print(max(alist [1:21]))"
   ]
  },
  {
   "cell_type": "code",
   "execution_count": 52,
   "id": "7d92c750",
   "metadata": {},
   "outputs": [
    {
     "name": "stdout",
     "output_type": "stream",
     "text": [
      "1\n"
     ]
    }
   ],
   "source": [
    "print(min(alist [1:21]))"
   ]
  },
  {
   "cell_type": "code",
   "execution_count": 38,
   "id": "688c4bd3",
   "metadata": {},
   "outputs": [
    {
     "data": {
      "text/plain": [
       "210"
      ]
     },
     "execution_count": 38,
     "metadata": {},
     "output_type": "execute_result"
    }
   ],
   "source": [
    "sum(alist)"
   ]
  },
  {
   "cell_type": "code",
   "execution_count": 41,
   "id": "677dbd77",
   "metadata": {},
   "outputs": [],
   "source": [
    "mydict = {'Sunny' : 'play',\n",
    "         'Rainy' : 'watch TV',\n",
    "         'Cloudy' : 'walk'}"
   ]
  },
  {
   "cell_type": "code",
   "execution_count": 42,
   "id": "df051be4",
   "metadata": {},
   "outputs": [
    {
     "data": {
      "text/plain": [
       "{'Sunny': 'play', 'Rainy': 'watch TV', 'Cloudy': 'walk'}"
      ]
     },
     "execution_count": 42,
     "metadata": {},
     "output_type": "execute_result"
    }
   ],
   "source": [
    "mydict"
   ]
  },
  {
   "cell_type": "code",
   "execution_count": 55,
   "id": "80aa1a38",
   "metadata": {},
   "outputs": [],
   "source": [
    "mydict = {'Sunny' : 'play',\n",
    "         'Rainy' : 'watch TV',\n",
    "         'Cloudy' : 'walk',\n",
    "         'snowy': 'ski'}"
   ]
  },
  {
   "cell_type": "code",
   "execution_count": 56,
   "id": "0ba5a557",
   "metadata": {},
   "outputs": [
    {
     "data": {
      "text/plain": [
       "{'Sunny': 'play', 'Rainy': 'watch TV', 'Cloudy': 'walk', 'snowy': 'ski'}"
      ]
     },
     "execution_count": 56,
     "metadata": {},
     "output_type": "execute_result"
    }
   ],
   "source": [
    "mydict"
   ]
  },
  {
   "cell_type": "code",
   "execution_count": null,
   "id": "7abe4c34",
   "metadata": {},
   "outputs": [],
   "source": []
  }
 ],
 "metadata": {
  "kernelspec": {
   "display_name": "Python 3 (ipykernel)",
   "language": "python",
   "name": "python3"
  },
  "language_info": {
   "codemirror_mode": {
    "name": "ipython",
    "version": 3
   },
   "file_extension": ".py",
   "mimetype": "text/x-python",
   "name": "python",
   "nbconvert_exporter": "python",
   "pygments_lexer": "ipython3",
   "version": "3.9.13"
  }
 },
 "nbformat": 4,
 "nbformat_minor": 5
}
